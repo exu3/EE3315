{
 "cells": [
  {
   "cell_type": "markdown",
   "id": "f38c5dc2-4241-4954-9f8d-89f27439a367",
   "metadata": {},
   "source": [
    "# L01"
   ]
  },
  {
   "cell_type": "markdown",
   "id": "692ef3bf-9ef5-4953-90b4-00abdfcd6497",
   "metadata": {},
   "source": [
    "## Pre lab instructions\n",
    "\n",
    "Write a Python script that reads the income tier column of the customers.csv file and counts the number of high-income, mid-range, low-mid customers (there are 8000 customers – please don’t manually count this!) (see the appendix for an example code. Note that there are tons of pieces in the code that you do not need)\n",
    "\n",
    "Modify the code to also read the battery capacity and calculate the average of car battery capacity for the\n",
    " high-income customers, mid-range income customers, and low-mid range customers. Create a bar graph \n",
    "representing this information"
   ]
  }
 ],
 "metadata": {
  "kernelspec": {
   "display_name": "Python 3 (ipykernel)",
   "language": "python",
   "name": "python3"
  },
  "language_info": {
   "codemirror_mode": {
    "name": "ipython",
    "version": 3
   },
   "file_extension": ".py",
   "mimetype": "text/x-python",
   "name": "python",
   "nbconvert_exporter": "python",
   "pygments_lexer": "ipython3",
   "version": "3.13.7"
  }
 },
 "nbformat": 4,
 "nbformat_minor": 5
}
