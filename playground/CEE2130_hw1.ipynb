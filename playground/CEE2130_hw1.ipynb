{
 "cells": [
  {
   "cell_type": "code",
   "execution_count": 3,
   "id": "86f9a75d-081a-4d7c-93cf-1d17c9dc70dd",
   "metadata": {},
   "outputs": [],
   "source": [
    "import matplotlib.pyplot as plt\n",
    "import numpy as np\n",
    "from scipy.integrate import solve_ivp"
   ]
  },
  {
   "attachments": {},
   "cell_type": "markdown",
   "id": "870dfd22-ba1e-4eed-9db7-696086aa4d43",
   "metadata": {},
   "source": [
    "revenue as a function of S(ales volume)\n",
    "r(s) = (s-120)*(10s+110)\n",
    "dr/ds\n",
    "cost as a function of S(ales volume)\n",
    "c(s)"
   ]
  },
  {
   "cell_type": "code",
   "execution_count": 4,
   "id": "c6d33c47-c894-489c-9abb-e64880808bb9",
   "metadata": {},
   "outputs": [
    {
     "ename": "TypeError",
     "evalue": "ufunc 'bitwise_xor' not supported for the input types, and the inputs could not be safely coerced to any supported types according to the casting rule ''safe''",
     "output_type": "error",
     "traceback": [
      "\u001b[31m---------------------------------------------------------------------------\u001b[39m",
      "\u001b[31mTypeError\u001b[39m                                 Traceback (most recent call last)",
      "\u001b[36mCell\u001b[39m\u001b[36m \u001b[39m\u001b[32mIn[4]\u001b[39m\u001b[32m, line 2\u001b[39m\n\u001b[32m      1\u001b[39m x = np.linspace(\u001b[32m0\u001b[39m, \u001b[32m100\u001b[39m, \u001b[32m1000\u001b[39m)\n\u001b[32m----> \u001b[39m\u001b[32m2\u001b[39m y = \u001b[32;43m10\u001b[39;49m\u001b[43m*\u001b[49m\u001b[43mx\u001b[49m\u001b[43m^\u001b[49m\u001b[32;43m2\u001b[39;49m\u001b[43m \u001b[49m\u001b[43m-\u001b[49m\u001b[32;43m1090\u001b[39;49m\u001b[43m*\u001b[49m\u001b[43mx\u001b[49m\u001b[43m-\u001b[49m\u001b[32;43m13200\u001b[39;49m\n\u001b[32m      4\u001b[39m \u001b[38;5;66;03m# plot\u001b[39;00m\n\u001b[32m      5\u001b[39m fig, ax = plt.subplots()\n",
      "\u001b[31mTypeError\u001b[39m: ufunc 'bitwise_xor' not supported for the input types, and the inputs could not be safely coerced to any supported types according to the casting rule ''safe''"
     ]
    }
   ],
   "source": [
    "x = np.linspace(0, 100, 1000)\n",
    "y = 10*x^2 -1090*x-13200\n",
    "\n",
    "sol = solve_ivp(\n",
    "\n",
    "# plot\n",
    "fig, ax = plt.subplots()\n",
    "\n",
    "ax.bar(x, y)\n",
    "\n",
    "ax.set_ylabel('$ money')\n",
    "ax.set_xlabel('sales volume')\n",
    "ax.set_title('blah')\n",
    "\n",
    "plt.show()"
   ]
  },
  {
   "cell_type": "code",
   "execution_count": null,
   "id": "c1e8a5e2-113c-49d8-80fe-365a72cc897d",
   "metadata": {},
   "outputs": [],
   "source": [
    "F = lambda t, s: np.cos(t)\n",
    "\n",
    "t_eval = np.arange(0, np.pi, 0.1)\n",
    "sol = solve_ivp(F, [0, np.pi], [0], t_eval=t_eval)\n",
    "\n",
    "plt.figure(figsize = (12, 4))\n",
    "plt.subplot(121)\n",
    "plt.plot(sol.t, sol.y[0])\n",
    "plt.xlabel('t')\n",
    "plt.ylabel('S(t)')\n",
    "plt.subplot(122)\n",
    "plt.plot(sol.t, sol.y[0] - np.sin(sol.t))\n",
    "plt.xlabel('t')\n",
    "plt.ylabel('S(t) - sin(t)')\n",
    "plt.tight_layout()\n",
    "plt.show()"
   ]
  }
 ],
 "metadata": {
  "kernelspec": {
   "display_name": "Python 3 (ipykernel)",
   "language": "python",
   "name": "python3"
  },
  "language_info": {
   "codemirror_mode": {
    "name": "ipython",
    "version": 3
   },
   "file_extension": ".py",
   "mimetype": "text/x-python",
   "name": "python",
   "nbconvert_exporter": "python",
   "pygments_lexer": "ipython3",
   "version": "3.13.7"
  }
 },
 "nbformat": 4,
 "nbformat_minor": 5
}
