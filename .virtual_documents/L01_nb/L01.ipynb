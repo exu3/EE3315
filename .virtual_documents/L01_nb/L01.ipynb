





import csv
import matplotlib.pyplot as plt
import numpy as np
from numpy import genfromtxt


filename = "./warsaw/customers.csv"
high_ct, mid_ct, lowmid_ct = (0, 0, 0)
high_bc_sum, mid_bc_sum, lowmid_bc_sum = (0, 0, 0)

with open(filename, mode="r", newline="") as csvfile:
    reader = csv.reader(csvfile)
    next(reader)  # skip header
    for row in reader:
        tier = row[1].strip()
        bat_cap = float(row[3].strip())
        if tier == "High":
            high_ct += 1
            high_bc_sum += bat_cap
        elif tier == "Mid-Range":
            mid_ct += 1
            mid_bc_sum += bat_cap
        elif tier == "Low-Mid":
            lowmid_ct += 1
            lowmid_bc_sum += bat_cap
        else:
            print(tier)  # anything i haven't accounted for?

print("customers")
print("high income customers: ", high_ct)
print("high battery capacity avg (kwh): ", high_bc_sum/high_ct)
print("low-mid income: ", lowmid_ct)
print("low-mid battery capacity avg (kwh): ", lowmid_bc_sum/lowmid_ct)
print("mid income: ", mid_ct)
print("mid battery capacity avg (kwh): ", mid_bc_sum/mid_ct)


# graph
cats = ["low-mid", "mid", "high"]
avgs = [lowmid_bc_sum/lowmid_ct, mid_bc_sum/mid_ct, high_bc_sum/high_ct]

# plot
fig, ax = plt.subplots()

ax.bar(cats, avgs)

ax.set_ylabel('avg battery capacity (kwh)')
ax.set_title('avg battery capacity by income tier')

plt.show()





x_ = [54.5,59.5,63.5,67.5,72.0,78.5,83.0]
y_ = [81,97,103,123,150,182,195]

def compute_r(x, y):
    n = len(x)
    sum = 0
    for i in range(n):
        sum += (x[i] - np.mean(x)) / np.std(x) * ((y[i] - np.mean(y)) / np.std(y))
    return 1 / (n) * sum # 1/n instead of 1/(n-1) for some reason

print(compute_r(x_,y_))





with open("./forecast/generation.csv", 'r') as f:
    data = list(csv.reader(f, delimiter=","))

import numpy as np
data = np.array(data)


# Calculates the correlation coefficient between Distance to Solar Noon (col 6) and 
# Power Generation as well as Relative Humidity and Power Generation 

dtsn = []
pg = []
rh = []
data = data[1:] # delete header
for i in range(len(data)):
    dtsn.append(float(data[i][6]))
    pg.append(float(data[i][15]))
    rh.append(float(data[i][12]))
                
print(compute_r(dtsn, pg))
print(compute_r(rh, pg))



# scatter plot of pg vs dtsn
fig, ax = plt.subplots()
ax.scatter(dtsn, pg)

ax.set_xlabel('distance to solar nooon')
ax.set_ylabel('power generation')
ax.set_title('power generation vs distance to solar noon')

plt.show()
print("r = ", compute_r(dtsn, pg))


# scatter plot of pg vs rh
fig, ax = plt.subplots()

ax.scatter(rh, pg)

ax.set_xlabel('relative humidity')
ax.set_ylabel('power generation')
ax.set_title('power generation vs humidity')

plt.show()
print("r = ", compute_r(rh, pg))







