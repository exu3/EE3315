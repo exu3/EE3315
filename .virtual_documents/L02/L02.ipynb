





import matplotlib.pyplot as plt
import numpy as np
import math


def i(v):
    return i_s - i_d * v

i_0 = math.pow(10,-10) # sat current
v = np.linspace(0, 1, num=100)
i_s = 6 # A
v_th = .026 # V (thermal voltage)

i_d = i_0 * (np.exp(v / v_th) -1)

plt.plot(v, i(v))


# PV curve

plot(v, v*i(v))




