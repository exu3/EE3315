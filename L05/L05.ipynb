{
 "cells": [
  {
   "cell_type": "markdown",
   "id": "f4710810-6f65-4b13-83ef-a7c23347aba7",
   "metadata": {},
   "source": [
    "# Solar PV Feasibility Study\n",
    "\n",
    ". Solar PV array: A large solar photo voltaic array\n",
    "- (a) The array, including all inverter and connection equipment, will cost $1.09 per W (AC)\n",
    "capacity.1\n",
    "- (b) The array will be made of state-of-the-art Panasonic HIT PV module N330E series (see\n",
    "the spec. sheet on the Brightspace or \u001c",
    "nd it online from manufacturer)\n",
    "- (c) The solar array is tilted at \u001c",
    "xed angle of latitude of Burlington (L = Σ = 44.5 degrees)\n",
    "and due south (φC = 0)\n",
    "- i. See the solar data on Brightspace. We are interested in METSTAT values and our\n",
    "lecture notes for calculations. Assume the following:\n",
    "- 1For a good discussion of PV system costs see: https://www.nrel.gov/docs/fy22osti/80694.pdf .\n",
    "\n",
    "- A. METSTAT Dir (W/m^2) = IB\n",
    "- B. METSTAT Dif (W/m^2) = IDH\n",
    "- C. Use IB and IDH and your notes to calculate the re\u001d",
    "ected radiation on the collector IRC\n",
    "- D. From the three collector insolations, use Solar PV specs and your knowledge of\n",
    "PV energy systems to calculate AC power output. Feel free to assume that a\n",
    "PV inverter has 97 % e\u001e",
    "ciency or \u001c",
    "nd another PV inverter online and cite it.\n",
    "- (d) The investor may be able to obtain tax credits to o\u001bset the cost of the plant. She may\n",
    "also be able to sell \u0010renewable energy credits\u0011 in the New England market, once the plant\n",
    "is operating."
   ]
  },
  {
   "cell_type": "code",
   "execution_count": 4,
   "id": "040cba4f-964a-4541-9db9-cc540c7f43ca",
   "metadata": {},
   "outputs": [],
   "source": [
    "import matplotlib.pyplot as plt\n",
    "import numpy as np\n",
    "import pandas as pd\n",
    "import math\n",
    "from scipy.interpolate import interp1d"
   ]
  },
  {
   "attachments": {},
   "cell_type": "markdown",
   "id": "17430caf-3aec-4412-9b67-f92a3198fde5",
   "metadata": {},
   "source": [
    "Notes:\n",
    "- sum of 3 components of radiation (total radiation)\n",
    "- ignore degradation. instead, annual value just repeats 20 times\n",
    "- section 3, question 4 IGNORE cause it's about the metstat file we're not using\n",
    "- question 3: just do the first plot for the first 48 hrs\n",
    "- panel specs\n",
    "\n",
    "key for csv data:\n",
    "- Gb(i): Beam (direct) irradiance on the inclined plane (plane of the array) (W/m2)\t\n",
    "- Gd(i): Diffuse irradiance on the inclined plane (plane of the array) (W/m2)\t\n",
    "- Gr(i): Reflected irradiance on the inclined plane (plane of the array) (W/m2)\t\n",
    "- H_sun: Sun height (degree)\t\n",
    "- T2m: 2-m air temperature (degree Celsius)\t\n",
    "- WS10m: 10-m total wind speed (m/s)\t\n",
    "- Int: 1 means solar radiation values are reconstructed\t\n",
    "\t\n",
    "PVGIS (c) European Union\t2001-2025"
   ]
  },
  {
   "cell_type": "code",
   "execution_count": 21,
   "id": "142aa5a2-3463-4144-8e46-c5eff954b202",
   "metadata": {},
   "outputs": [],
   "source": [
    "# read data files\n",
    "# read data\n",
    "df = pd.read_csv(\"./Timeseries_44.500_-73.200_E5_44deg_0deg_2022_2022.csv\")\n",
    "df2 = pd.read_csv(\"../L04/vermont_demand_price_2022.csv\")\n",
    "\n",
    "# Extract data\n",
    "gbi = df[\"Gb(i)\"]\n",
    "gdi = df[\"Gd(i)\"]\n",
    "gri = df[\"Gr(i)\"]\n",
    "df['i_tot'] = df[\"Gb(i)\"] + df[\"Gd(i)\"] + df[\"Gr(i)\"] # total irradiance W/m^2\n",
    "\n",
    "price_per_MWh = df2[\"Price ($/MWh)\"]\n",
    "load_MW = df2[\"Load (MW)\"]"
   ]
  },
  {
   "cell_type": "code",
   "execution_count": 22,
   "id": "764c08f3-b6a8-4de8-a18b-38103e1441cf",
   "metadata": {},
   "outputs": [
    {
     "name": "stdout",
     "output_type": "stream",
     "text": [
      "Annual energy per panel: 0.534 MWh\n",
      "Panels needed: 819,703\n",
      "Installed DC capacity: 270.50 MW\n",
      "Installed AC capacity: 262.39 MW\n"
     ]
    }
   ],
   "source": [
    "# panel plus inverter specs\n",
    "e_inverter = .97 # inverter efficiency\n",
    "a_per_mod = 1.67 # m^2 area per panel\n",
    "e_per_mod = .199 # efficiency per panel\n",
    "pmax_dc = 330 # W DC\n",
    "pmax_ac = pmax_dc * e_inverter # 320 W ac\n",
    "\n",
    "# only dispatch if PRICE IS GREATER THAN ZERO TODO IMPLEMENT THIS CONDITION IN CODE TO CALCULATE NUMBER OF PANELS\n",
    "# NEED SLIGHTLY MORE PANELS THAN CURRENTLY CALCULATED\n",
    "def dispatch_factor(p):\n",
    "    if p == 0 \n",
    "        return 0\n",
    "    if p > 0 \n",
    "        return 1\n",
    "\n",
    "# STC  is 1000 W/m^2\n",
    "# DC power per panel at each hour (scale STC rating by irradiance / 1000)\n",
    "df['P_dc_per_panel_W'] = pmax_dc * (df['i_tot'] / 1000)\n",
    "\n",
    "# AC power after inverter and clipping to AC max\n",
    "df['P_ac_per_panel_W'] = np.minimum(df['P_dc_per_panel_W'] * e_inverter, pmax_ac)\n",
    "\n",
    "# W * hr * convert to MW\n",
    "annual_energy_per_panel_MWh = df['P_ac_per_panel_W'].sum() / 1e6\n",
    "\n",
    "target_annual_MWh = 438000 # MWh/year target 50*8760\n",
    "num_panels = math.ceil(target_annual_MWh / annual_energy_per_panel_MWh)\n",
    "\n",
    "# Installed capacities\n",
    "installed_capacity_dc_MW = num_panels * pmax_dc / 1e6\n",
    "installed_capacity_ac_MW = num_panels * pmax_ac / 1e6\n",
    "\n",
    "print(f\"Annual energy per panel: {annual_energy_per_panel_MWh:.3f} MWh\")\n",
    "print(f\"Panels needed: {num_panels:,d}\")\n",
    "print(f\"Installed DC capacity: {installed_capacity_dc_MW:.2f} MW\")\n",
    "print(f\"Installed AC capacity: {installed_capacity_ac_MW:.2f} MW\")"
   ]
  },
  {
   "cell_type": "code",
   "execution_count": 17,
   "id": "39066ee8-e94e-414e-98e8-535d5eae0e6f",
   "metadata": {},
   "outputs": [
    {
     "name": "stdout",
     "output_type": "stream",
     "text": [
      "capacity factor:   0.19055847260273978\n"
     ]
    }
   ],
   "source": [
    "# capacity factor\n",
    "# capacity factor (actual energy out / possible energy out)\n",
    "# dispatch rule is when market price is > 0\n",
    "\n",
    "energy_produced =  df['P_ac_per_panel_W'].sum() * num_panels / 1e6 # MWh generated by PV farm\n",
    "total_energy = installed_capacity_ac_MW * 8760 # MWh capacity\n",
    "cf = energy_produced / total_energy\n",
    "print(\"capacity factor:  \", cf)"
   ]
  },
  {
   "cell_type": "code",
   "execution_count": 31,
   "id": "1600f731-f2b5-4aee-84bf-5d17bbba2dea",
   "metadata": {},
   "outputs": [
    {
     "name": "stdout",
     "output_type": "stream",
     "text": [
      "rev: $ $41,841,309.16\n",
      "om per year:  $3,952,034.07\n",
      "Annual cost of capital for loan: $ $22,949,520.68\n"
     ]
    }
   ],
   "source": [
    "# num hours in which pp will produce nonzero energy \n",
    "\n",
    "# revenue\n",
    "rev = 0\n",
    "for h in range(8760):\n",
    "    if df['P_ac_per_panel_W'].iloc[h] > 0:\n",
    "        rev += df['P_ac_per_panel_W'].iloc[h] * num_panels / 1e6 * price_per_MWh[h]\n",
    "\n",
    "print(\"rev: $\", f\"${rev:,.2f}\")\n",
    "\n",
    "# costs\n",
    "\n",
    "# Solar PV O&M = $14.61/kW (DC) capacity / year (NREL)\n",
    "om_per_year = 14.61 * 1e3 * installed_capacity_dc_MW\n",
    "print(\"om per year: \", f\"${om_per_year:,.2f}\")\n",
    "\n",
    "# startup costs\n",
    "# $1.09 per W (AC)\n",
    "P = 1.09 * installed_capacity_ac_MW * 1e6\n",
    "\n",
    "# annual payment\n",
    "n = 20\n",
    "r = .05\n",
    "rn = (1+r) ** n\n",
    "\n",
    "A = P * r * rn / (rn -1)\n",
    "print(\"Annual cost of capital for loan: $\", f\"${A:,.2f}\")"
   ]
  },
  {
   "cell_type": "markdown",
   "id": "27c16831-0f16-4338-ab31-032c95b01c5f",
   "metadata": {},
   "source": [
    "## For each power plant\n",
    "\n",
    "For each power plant calculate the following:\n",
    "1. Calculate the size (capacity) of the plant that is needed to ensure that it produces an average\n",
    "of 50 MW (electricity, ignore station service power) per year.\n",
    "    - panels needed 819703 panels. Installed DC capacity is 270 MW (AC is 262 MW)\n",
    "3. Compute the capacity factor for the power plant using total energy produced vs. total energy if asset was producing at rated capacity all year long.\n",
    "    - cf = .19055\n",
    "5. Using appropriate plant dispatch rules, Compute the number of hours in which the power\n",
    "plant will produce a non-zero amount of energy (i.e., plant is dispatched: ON and MW>0),\n",
    "given the prices of electricity and other factors, such as steam revenue and O&M costs (see\n",
    "below).\n",
    "6. Calculate the 1-year revenue earned by selling electricity, heat and/or renewable energy credits\n",
    "at given/current market prices.\n",
    "     - rev \\\\$41,841,309.16\n",
    "8. Estimate the annual operating and fuel costs for the plant, over a 20 year planning horizon.\n",
    "For each plant, assume that operations and maintenance (O&M) costs are currently\n",
    "    - (a) for Solar PV O&M = 14.61/kW (DC) capacity / year (NREL)\n",
    "    - ~~i. Assume performance degradation of 0.26% per year in kWh output (or see spec\n",
    "sheet) .~~\n",
    "    - om per year: 3,952,034.07\n",
    "9. Calculate the annual cost of capital (i.e., the loan), assuming that capital is available for the\n",
    "project at a 5% interest rate, for a 20 year planning horizon. To do this calculation use the\n",
    "P to A equation\n",
    "assume that the bond (loan) for this project is spread over a 20 year period. In the equation\n",
    "above A is the annual cost of capital, P is the principle of the loan, r is the interest rate, and\n",
    "n is the number of periods (20).\n",
    "    - A = 22,949,520.68\n",
    "11. For wind and solar, do a bit of research about other potential sources of revenue, or other ways\n",
    "to reduce the cost. Things to look for are production tax credits, renewable energy credits,\n",
    "or investment tax credits. Include these revenues/credits in your annual revenue projections\n",
    "for the 20 year period [remember to include sources].\n",
    "(a) For example, see NREL-funded incentives database DSIRE"
   ]
  },
  {
   "cell_type": "code",
   "execution_count": 1,
   "id": "d6d1a1c0-da64-44da-adb1-dbe303bd3f57",
   "metadata": {},
   "outputs": [],
   "source": [
    "# yeah"
   ]
  },
  {
   "cell_type": "markdown",
   "id": "556e40f0-9b5a-41a9-a1b1-721635a414da",
   "metadata": {},
   "source": [
    "## 20-year outlook"
   ]
  },
  {
   "cell_type": "code",
   "execution_count": 32,
   "id": "1de76fa2-6f52-4385-8c2a-b5dfab55267d",
   "metadata": {},
   "outputs": [
    {
     "name": "stdout",
     "output_type": "stream",
     "text": [
      "    Year O&M Cost ($)  Annuity Payment ($)  TotalCost ($)  Total Rev ($)  \\\n",
      "0      1  3,952,034.07       22,949,520.68  26,901,554.76  41,841,309.16   \n",
      "1      2  4,050,834.93       22,949,520.68  27,000,355.61  43,096,548.43   \n",
      "2      3  4,152,105.80       22,949,520.68  27,101,626.48  44,389,444.88   \n",
      "3      4  4,255,908.44       22,949,520.68  27,205,429.13  45,721,128.23   \n",
      "4      5  4,362,306.15       22,949,520.68  27,311,826.84  47,092,762.08   \n",
      "5      6  4,471,363.81       22,949,520.68  27,420,884.49  48,505,544.94   \n",
      "6      7  4,583,147.90       22,949,520.68  27,532,668.59  49,960,711.29   \n",
      "7      8  4,697,726.60       22,949,520.68  27,647,247.29  51,459,532.63   \n",
      "8      9  4,815,169.77       22,949,520.68  27,764,690.45  53,003,318.60   \n",
      "9     10  4,935,549.01       22,949,520.68  27,885,069.70  54,593,418.16   \n",
      "10    11  5,058,937.74       22,949,520.68  28,008,458.42  56,231,220.71   \n",
      "11    12  5,185,411.18       22,949,520.68  28,134,931.86  57,918,157.33   \n",
      "12    13  5,315,046.46       22,949,520.68  28,264,567.14  59,655,702.05   \n",
      "13    14  5,447,922.62       22,949,520.68  28,397,443.30  61,445,373.11   \n",
      "14    15  5,584,120.69       22,949,520.68  28,533,641.37  63,288,734.30   \n",
      "15    16  5,723,723.70       22,949,520.68  28,673,244.39  65,187,396.33   \n",
      "16    17  5,866,816.80       22,949,520.68  28,816,337.48  67,143,018.22   \n",
      "17    18  6,013,487.22       22,949,520.68  28,963,007.90  69,157,308.77   \n",
      "18    19  6,163,824.40       22,949,520.68  29,113,345.08  71,232,028.03   \n",
      "19    20  6,317,920.01       22,949,520.68  29,267,440.69  73,368,988.87   \n",
      "\n",
      "          Net ($)  \n",
      "0   14,939,754.40  \n",
      "1   16,096,192.82  \n",
      "2   17,287,818.40  \n",
      "3   18,515,699.10  \n",
      "4   19,780,935.24  \n",
      "5   21,084,660.45  \n",
      "6   22,428,042.70  \n",
      "7   23,812,285.34  \n",
      "8   25,238,628.15  \n",
      "9   26,708,348.47  \n",
      "10  28,222,762.29  \n",
      "11  29,783,225.46  \n",
      "12  31,391,134.90  \n",
      "13  33,047,929.80  \n",
      "14  34,755,092.93  \n",
      "15  36,514,151.94  \n",
      "16  38,326,680.74  \n",
      "17  40,194,300.87  \n",
      "18  42,118,682.95  \n",
      "19  44,101,548.18  \n"
     ]
    }
   ],
   "source": [
    "# yeah\n",
    "# inflation rates\n",
    "power_inflation = .03\n",
    "om_inflation = .025\n",
    "\n",
    "years = range(1, 21) # 20 year outlook\n",
    "rows = []\n",
    "for y in years:\n",
    "    om_cost = om_per_year * (1 + om_inflation) ** (y-1)\n",
    "    capital_payment = A  # same each year\n",
    "\n",
    "    total_rev = rev * (1 + power_inflation) ** (y-1)\n",
    "    total_cost = om_cost + capital_payment\n",
    "    \n",
    "    net = total_rev - total_cost\n",
    "\n",
    "    rows.append({\n",
    "        \"Year\": y,\n",
    "        \"O&M Cost ($) \": f\"{om_cost:,.2f}\",\n",
    "        \"Annuity Payment ($)\": f\"{capital_payment:,.2f}\",\n",
    "        \"TotalCost ($)\": f\"{total_cost:,.2f}\",\n",
    "        \"Total Rev ($)\": f\"{total_rev:,.2f}\",\n",
    "        \"Net ($)\": f\"{net:,.2f}\"\n",
    "    })\n",
    "\n",
    "df_20yrs = pd.DataFrame(rows)\n",
    "\n",
    "print(df_20yrs)\n",
    "df_20yrs.to_csv('20-year-table.csv', index=False)"
   ]
  },
  {
   "cell_type": "markdown",
   "id": "91ac1d69-4878-4e3a-8e83-4141391b5fa5",
   "metadata": {},
   "source": [
    "## Solar PV specifc requirements:\n",
    "\n",
    "For the solar PV plant calculate the following:\n",
    "1. The area covered by the solar panels. Remember that a 1 m2\n",
    "solar panel with a 100% e\u001e",
    "ciency\n",
    "will produce IC = IBC + IDC + IRC Watts. This will be used to estimate the amount of land\n",
    "that will need to be purchased. Report your result in acres.\n",
    "2. Plot the solar energy production (MW) over time for the first 48 hour period in the data\n",
    "~~and hours 4368 to 4415.~~\n",
    "4. Calculate the average solar energy produced per day for each month of the year. Produce a\n",
    "plot for this result.\n",
    "5. Sensitivity study: repeat all solar calculations with METSTAT CSKY (clear sky model data)\n",
    "- (a) Compare and contrast the results with METSTAT (cloudy) data.\n",
    "i. Talk about the difference between the results from using the two solar sets\n",
    "- (b) Based your (final) recommendation on just the METSTAT results."
   ]
  },
  {
   "cell_type": "code",
   "execution_count": 35,
   "id": "8e77d4d5-e845-4fe4-ac1e-46b75e844975",
   "metadata": {},
   "outputs": [
    {
     "name": "stdout",
     "output_type": "stream",
     "text": [
      "338.26302539105  acres\n"
     ]
    }
   ],
   "source": [
    "# area covered by panels\n",
    "m2_to_acres = 0.000247105\n",
    "\n",
    "total_area_ac = num_panels * a_per_mod * m2_to_acres\n",
    "print(total_area_ac, \" acres\")"
   ]
  },
  {
   "cell_type": "code",
   "execution_count": 38,
   "id": "5759aeda-8b5e-42a3-9d8f-945941471baa",
   "metadata": {},
   "outputs": [
    {
     "data": {
      "image/png": "[encoded data removed]",
      "text/plain": [
       "<Figure size 1000x400 with 1 Axes>"
      ]
     },
     "metadata": {},
     "output_type": "display_data"
    }
   ],
   "source": [
    "# plot solar energy production MW over the first 48 hour period in the data\n",
    "\n",
    "# Total farm AC output in MW (W → MW)\n",
    "df['farm_ac_MW'] = df['P_ac_per_panel_W'] * num_panels / 1e6\n",
    "\n",
    "# Plot first 48 hours\n",
    "plt.figure(figsize=(10, 4))\n",
    "plt.plot(df['farm_ac_MW'].iloc[:48], label='solar farm output')\n",
    "plt.title(\"Solar Energy Production (48-hr period)\")\n",
    "plt.xlabel(\"hour\")\n",
    "plt.ylabel(\"power (MW)\")\n",
    "plt.grid(True, alpha=0.3)\n",
    "plt.tight_layout()\n",
    "plt.show()\n"
   ]
  },
  {
   "cell_type": "code",
   "execution_count": null,
   "id": "fdab5332-1015-4764-aef9-3ce88cef3cb1",
   "metadata": {},
   "outputs": [],
   "source": []
  }
 ],
 "metadata": {
  "kernelspec": {
   "display_name": "Python 3 (ipykernel)",
   "language": "python",
   "name": "python3"
  },
  "language_info": {
   "codemirror_mode": {
    "name": "ipython",
    "version": 3
   },
   "file_extension": ".py",
   "mimetype": "text/x-python",
   "name": "python",
   "nbconvert_exporter": "python",
   "pygments_lexer": "ipython3",
   "version": "3.13.7"
  }
 },
 "nbformat": 4,
 "nbformat_minor": 5
}
