{
 "cells": [
  {
   "cell_type": "markdown",
   "id": "dd9126a4-cb4a-4b7e-9b6b-550c438085d1",
   "metadata": {},
   "source": [
    "# L03: NG Feasibility Study\n",
    "\n",
    "General ssumptions:\n",
    "- When dispatched, the plant dispatches at full capacity. The dispatch rule is if the revenue would be greater than the cost (when the demand price is greater than the cost?).\n",
    "- Cost of NG is fixed at \\\\$2.90/MMBtu\n",
    "- Efficiency with regards to electricity is .38 fixed for all hours.\n",
    "- Steam price is \\\\$15 / MMBtu constant.\n",
    "- O & M costs are \\\\$6 / MWh\n",
    "- Initial capital cost to build the plant is $1000/kW (loan principal). The loan interest is 5% compounded annually, with a period of 20 years.\n",
    "- For 20 year analysis, inflation rate is 2% per year.\n",
    "efficiency = 0.38 (electric) fixed for all hours."
   ]
  },
  {
   "cell_type": "code",
   "execution_count": 35,
   "id": "e6418d43-e5f2-4003-bb30-733b1ed81fff",
   "metadata": {},
   "outputs": [],
   "source": [
    "import matplotlib.pyplot as plt\n",
    "import numpy as np\n",
    "import pandas as pd\n",
    "import math"
   ]
  },
  {
   "cell_type": "code",
   "execution_count": 36,
   "id": "5119eaa6-70b7-4dee-86a9-fc625eddc8b2",
   "metadata": {},
   "outputs": [],
   "source": [
    "# read data\n",
    "# read into pd dataframe\n",
    "df = pd.read_csv(\"./vermont_demand_price_2022.csv\")\n",
    "df2 = pd.read_csv(\"./Data_wind_temp.csv\")\n",
    "\n",
    "# Extract data\n",
    "pprice = df[\"Price ($/MWh)\"]\n",
    "load = df[\"Load (MW)\"]\n",
    "temp = df2[\" temperature (F)\"]"
   ]
  },
  {
   "cell_type": "code",
   "execution_count": 37,
   "id": "c338260b-1baf-445f-9a4f-36df54edef9f",
   "metadata": {},
   "outputs": [],
   "source": [
    "# only dispatch steam if rev > cost\n",
    "\n",
    "def is_dispatched(a,b,c,d):\n",
    "    if (a + b) > (c + d):\n",
    "        return 1\n",
    "    return 0"
   ]
  },
  {
   "cell_type": "code",
   "execution_count": 38,
   "id": "67bc5e70-ae22-4ef4-ac1e-458b5b1a6199",
   "metadata": {
    "scrolled": true
   },
   "outputs": [],
   "source": [
    "# steam demand function\n",
    "# where Hh is the steam demand in hour h, and Th is the outside temperature (in F) in\n",
    "# hour h. For example, when the temperature is 60 F, the hospital will purchase 1 million\n",
    "# btu of steam. When the temperature is 0 F, the hospital will purchase up to 7 million\n",
    "# btu of steam.\n",
    "\n",
    "hh_list = []\n",
    "for h in range(8760):\n",
    "    hh = max((70-temp[h])* .1, 0) # *.1 not 1e5 for UNITS\n",
    "    hh_list.append(hh)\n",
    "\n",
    "steam_demand = pd.DataFrame(hh_list, columns=[\"steam demand per hour\"])"
   ]
  },
  {
   "cell_type": "code",
   "execution_count": 39,
   "id": "404ee3bb-261a-4b8f-ba67-ebf959f414b6",
   "metadata": {},
   "outputs": [],
   "source": [
    "# vars\n",
    "e_ = []\n",
    "for i in range(8760):\n",
    "    e_.append(50)\n",
    "\n",
    "eeout = pd.DataFrame(e_, columns=[\"eeout\"])\n",
    "s_price = 15 # dollars per MMBtu\n",
    "install_cost = 1000 # $ per kW (install cost of the thing\n",
    "ng_price = 2.7 # $/mmbtu\n",
    "mmbtu_to_mwh = 0.293071\n",
    "efficiency = .38\n",
    "o_m = 6 # per MWh"
   ]
  },
  {
   "cell_type": "code",
   "execution_count": 40,
   "id": "32669bcc-b955-44e2-92f0-440046cc10cb",
   "metadata": {
    "scrolled": true
   },
   "outputs": [
    {
     "name": "stdout",
     "output_type": "stream",
     "text": [
      "sum profit (rev-cost): $ 23939995.4156468\n",
      "sum electricity rev: $ 36387255.5\n",
      "sum steam rev: $ 297633.17064798286\n"
     ]
    }
   ],
   "source": [
    "profit_sum = 0\n",
    "d_factor_list = [] # used to compute hours ON later\n",
    "gen_hourly = [] # also used later on\n",
    "\n",
    "elec_rev_sum = 0\n",
    "steam_rev_sum = 0\n",
    "fuel_cost_sum = 0\n",
    "om_cost_sum = 0\n",
    "\n",
    "for i in range(8760):\n",
    "    \n",
    "    ein = eeout.iloc[i,0] / efficiency\n",
    "    ein_mmbtu = ein / mmbtu_to_mwh\n",
    "\n",
    "    # revenues\n",
    "    elec_rev = pprice.iloc[i] * eeout.iloc[i,0]\n",
    "    max_steam = ein_mmbtu * .4\n",
    "    steam_rev = s_price * min(steam_demand.iloc[i,0], max_steam)\n",
    "\n",
    "    # costs\n",
    "    ng_cost = ng_price * ein / mmbtu_to_mwh\n",
    "    o_m = 6 * eeout.iloc[i,0] # 6 dollars per MWh\n",
    "\n",
    "    d_factor = is_dispatched(elec_rev, steam_rev, ng_cost, o_m)\n",
    "    d_factor_list.append(d_factor)\n",
    "\n",
    "    gen_hourly.append(eeout.iloc[i,0] * d_factor) # 0 if no dispatch\n",
    "\n",
    "    profit_sum += (( elec_rev + steam_rev - ng_cost - o_m ) * d_factor)\n",
    "    elec_rev_sum += elec_rev * d_factor\n",
    "    steam_rev_sum += steam_rev * d_factor\n",
    "    fuel_cost_sum += ng_cost * d_factor\n",
    "    om_cost_sum += o_m * d_factor\n",
    "\n",
    "print(\"sum profit (rev-cost): $\", profit_sum)\n",
    "print(\"sum electricity rev: $\", elec_rev_sum)\n",
    "print(\"sum steam rev: $\", steam_rev_sum)\n",
    "\n",
    "# should be around 40k or so?"
   ]
  },
  {
   "cell_type": "markdown",
   "id": "976a3d23-54b3-466a-b7c1-613344c3d3b9",
   "metadata": {},
   "source": [
    "## More Calcualations"
   ]
  },
  {
   "cell_type": "code",
   "execution_count": 41,
   "id": "f92be527-8732-486c-8437-a110d214a468",
   "metadata": {},
   "outputs": [
    {
     "name": "stdout",
     "output_type": "stream",
     "text": [
      "Hours ON: 8428\n",
      "cf  0.9621004566210045\n",
      "plant size MW:  51.969625059326056\n"
     ]
    }
   ],
   "source": [
    "# size/cap required to produce average 50 MW/year\n",
    "\n",
    "# of hours plant produces non-zero energy (dispatch ON hours)\n",
    "# count hours where dispatch decision is ON and generation > 0\n",
    "\n",
    "hours_on = sum(d_factor_list)\n",
    "print(\"Hours ON:\", hours_on)\n",
    "\n",
    "# capacity factor\n",
    "\n",
    "cf = hours_on / 8760\n",
    "print(\"cf \", cf)\n",
    "\n",
    "# size/cap required to produce 50MW/yr\n",
    "\n",
    "cap_MW = 50/cf\n",
    "print(\"plant size MW: \", cap_MW)"
   ]
  },
  {
   "cell_type": "code",
   "execution_count": 42,
   "id": "a445ffca-3257-4a29-b583-c4a32f26e781",
   "metadata": {
    "scrolled": true
   },
   "outputs": [
    {
     "name": "stdout",
     "output_type": "stream",
     "text": [
      "Annual capital pmt: $ 4170177.170090506\n"
     ]
    }
   ],
   "source": [
    "# compute annual cost of capital\n",
    "n = 20\n",
    "r = .05\n",
    "P = install_cost * 1e3 * cap_MW\n",
    "\n",
    "rn = (1+r) ** n\n",
    "\n",
    "A = P * r * rn / (rn -1)\n",
    "print(\"Annual capital pmt: $\", A)"
   ]
  },
  {
   "cell_type": "markdown",
   "id": "081cb053-d72f-4ddf-9db3-99537bd2876a",
   "metadata": {},
   "source": [
    "We model a 20-year outlook using 2% inflation rate."
   ]
  },
  {
   "cell_type": "code",
   "execution_count": 48,
   "id": "ef0db985-ffac-415f-b157-55514d28f0c6",
   "metadata": {},
   "outputs": [
    {
     "name": "stdout",
     "output_type": "stream",
     "text": [
      "    Year       ElecRev      SteamRev      TotalRev      FuelCost  \\\n",
      "0      1  3.638726e+07  2.976332e+05  3.668489e+07  1.021649e+07   \n",
      "1      2  4.366471e+07  3.571598e+05  4.402187e+07  1.225979e+07   \n",
      "2      3  5.239765e+07  4.285918e+05  5.282624e+07  1.471175e+07   \n",
      "3      4  6.287718e+07  5.143101e+05  6.339149e+07  1.765410e+07   \n",
      "4      5  7.545261e+07  6.171721e+05  7.606979e+07  2.118492e+07   \n",
      "5      6  9.054314e+07  7.406066e+05  9.128374e+07  2.542190e+07   \n",
      "6      7  1.086518e+08  8.887279e+05  1.095405e+08  3.050629e+07   \n",
      "7      8  1.303821e+08  1.066473e+06  1.314486e+08  3.660754e+07   \n",
      "8      9  1.564585e+08  1.279768e+06  1.577383e+08  4.392905e+07   \n",
      "9     10  1.877502e+08  1.535722e+06  1.892860e+08  5.271486e+07   \n",
      "10    11  2.253003e+08  1.842866e+06  2.271432e+08  6.325783e+07   \n",
      "11    12  2.703604e+08  2.211439e+06  2.725718e+08  7.590940e+07   \n",
      "12    13  3.244324e+08  2.653727e+06  3.270862e+08  9.109128e+07   \n",
      "13    14  3.893189e+08  3.184473e+06  3.925034e+08  1.093095e+08   \n",
      "14    15  4.671827e+08  3.821367e+06  4.710041e+08  1.311714e+08   \n",
      "15    16  5.606192e+08  4.585641e+06  5.652049e+08  1.574057e+08   \n",
      "16    17  6.727431e+08  5.502769e+06  6.782458e+08  1.888869e+08   \n",
      "17    18  8.072917e+08  6.603323e+06  8.138950e+08  2.266643e+08   \n",
      "18    19  9.687500e+08  7.923987e+06  9.766740e+08  2.719971e+08   \n",
      "19    20  1.162500e+09  9.508785e+06  1.172009e+09  3.263965e+08   \n",
      "\n",
      "          OMCost  CapitalPayment     TotalCost           Net  \n",
      "0   2.528400e+06    4.170177e+06  1.691507e+07  1.976982e+07  \n",
      "1   3.034080e+06    4.170177e+06  1.946405e+07  2.455782e+07  \n",
      "2   3.640896e+06    4.170177e+06  2.252282e+07  3.030342e+07  \n",
      "3   4.369075e+06    4.170177e+06  2.619335e+07  3.719813e+07  \n",
      "4   5.242890e+06    4.170177e+06  3.059799e+07  4.547180e+07  \n",
      "5   6.291468e+06    4.170177e+06  3.588355e+07  5.540019e+07  \n",
      "6   7.549762e+06    4.170177e+06  4.222622e+07  6.731427e+07  \n",
      "7   9.059714e+06    4.170177e+06  4.983743e+07  8.161115e+07  \n",
      "8   1.087166e+07    4.170177e+06  5.897089e+07  9.876742e+07  \n",
      "9   1.304599e+07    4.170177e+06  6.993103e+07  1.193549e+08  \n",
      "10  1.565519e+07    4.170177e+06  8.308320e+07  1.440600e+08  \n",
      "11  1.878622e+07    4.170177e+06  9.886580e+07  1.737060e+08  \n",
      "12  2.254347e+07    4.170177e+06  1.178049e+08  2.092812e+08  \n",
      "13  2.705216e+07    4.170177e+06  1.405319e+08  2.519715e+08  \n",
      "14  3.246259e+07    4.170177e+06  1.678042e+08  3.031998e+08  \n",
      "15  3.895511e+07    4.170177e+06  2.005310e+08  3.646738e+08  \n",
      "16  4.674614e+07    4.170177e+06  2.398032e+08  4.384427e+08  \n",
      "17  5.609536e+07    4.170177e+06  2.869298e+08  5.269652e+08  \n",
      "18  6.731444e+07    4.170177e+06  3.434817e+08  6.331923e+08  \n",
      "19  8.077732e+07    4.170177e+06  4.113440e+08  7.606648e+08  \n"
     ]
    }
   ],
   "source": [
    "# inflation rates\n",
    "inflation = .2\n",
    "\n",
    "years = range(1, 21) # 20 year outlook\n",
    "rows = []\n",
    "for y in years:\n",
    "    elec_rev = elec_rev_sum * (1 + inflation)**(y-1)\n",
    "    steam_rev = steam_rev_sum * (1 + inflation)**(y-1)\n",
    "\n",
    "    fuel_cost = fuel_cost_sum * (1 + inflation) ** (y-1)\n",
    "    om_cost = om_cost_sum * (1 + inflation) ** (y-1)\n",
    "    capital_payment = A  # same each year\n",
    "\n",
    "    total_rev = elec_rev + steam_rev\n",
    "    total_cost = fuel_cost + om_cost + capital_payment\n",
    "    net = total_rev - total_cost\n",
    "\n",
    "    rows.append({\n",
    "        \"Year\": y,\n",
    "        \"ElecRev\": elec_rev,\n",
    "        \"SteamRev\": steam_rev,\n",
    "        \"TotalRev\": total_rev,\n",
    "        \"FuelCost\": fuel_cost,\n",
    "        \"OMCost\": om_cost,\n",
    "        \"CapitalPayment\": capital_payment,\n",
    "        \"TotalCost\": total_cost,\n",
    "        \"Net\": net\n",
    "    })\n",
    "\n",
    "df_20yrs = pd.DataFrame(rows)\n",
    "\n",
    "print(df_20yrs)"
   ]
  },
  {
   "cell_type": "markdown",
   "id": "c424b2f3-c6d2-4ced-af2c-357d481a00b3",
   "metadata": {},
   "source": [
    "## NG-specific calculations\n",
    "\n",
    "For the natural gas plant calculate the following:\n",
    "- The cost of electricity from the plant (USD per MWh electric) when not supplying waste heat.\n",
    "- The net cost of electricity from the plant (USD per MWh electric) when supplying waste heat to the hospital.\n",
    "- The number of hours in which the electricity price is higher than the net electricity cost.\n",
    "- The total revenue from the plant, assuming that the plant only produces when the price is higher than the net cost. This is your dispatch rule."
   ]
  },
  {
   "cell_type": "code",
   "execution_count": 49,
   "id": "57ec7bc2-265c-4709-808a-54d7e629a6b5",
   "metadata": {},
   "outputs": [
    {
     "name": "stdout",
     "output_type": "stream",
     "text": [
      "Cost of electricity ($/MWh) when NOT supplying waste heat:  80777356.80599074\n",
      "Cost of electricity ($/MWh) when supplying waste heat:  37.939354462198786\n",
      "hours profitable  8428\n"
     ]
    }
   ],
   "source": [
    "# electricity cost when no heat\n",
    "\n",
    "fuel_cost_per_mwh = (1/efficiency) * (1/0.293071) * ng_price\n",
    "om_cost_per_mwh = om_cost\n",
    "\n",
    "annual_capital_payment = A\n",
    "annual_mwh_produced = 50 * 8760\n",
    "a_capital_per_mwh = annual_capital_payment / annual_mwh_produced\n",
    "\n",
    "cost_no_heat_per_mwh = fuel_cost_per_mwh + om_cost_per_mwh + a_capital_per_mwh\n",
    "print(\"Cost of electricity ($/MWh) when NOT supplying waste heat: \", cost_no_heat_per_mwh)\n",
    "\n",
    "\n",
    "# net cost when heat\n",
    "cost_with_heat_per_mwh = (fuel_cost_sum + om_cost_sum + annual_capital_payment - steam_rev_sum) / annual_mwh_produced\n",
    "print(\"Cost of electricity ($/MWh) when supplying waste heat: \", cost_with_heat_per_mwh)\n",
    "\n",
    "\n",
    "# hours profitable\n",
    "\n",
    "hours_profitable = sum(d_factor_list) # this might be wrong, it hsould be when pprice is higher than net cost\n",
    "\n",
    "print(\"hours profitable \", hours_profitable)"
   ]
  },
  {
   "cell_type": "code",
   "execution_count": null,
   "id": "07311d01-8ec0-4e2b-a7cd-64d1c7f66a73",
   "metadata": {},
   "outputs": [],
   "source": []
  },
  {
   "cell_type": "code",
   "execution_count": null,
   "id": "24df1fbc-58d1-4abc-8467-81f222b2d6b8",
   "metadata": {},
   "outputs": [],
   "source": []
  }
 ],
 "metadata": {
  "kernelspec": {
   "display_name": "Python 3 (ipykernel)",
   "language": "python",
   "name": "python3"
  },
  "language_info": {
   "codemirror_mode": {
    "name": "ipython",
    "version": 3
   },
   "file_extension": ".py",
   "mimetype": "text/x-python",
   "name": "python",
   "nbconvert_exporter": "python",
   "pygments_lexer": "ipython3",
   "version": "3.13.7"
  }
 },
 "nbformat": 4,
 "nbformat_minor": 5
}
