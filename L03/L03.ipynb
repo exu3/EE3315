{
 "cells": [
  {
   "cell_type": "markdown",
   "id": "dd9126a4-cb4a-4b7e-9b6b-550c438085d1",
   "metadata": {},
   "source": [
    "# L03: NG Feasibility Study\n",
    "\n",
    "Assumptions:\n",
    "- when dispatched, plant dispatches at full capacity\n",
    "- max capacity * 8760h = 438GWh\n",
    "- cost of NG fixed $2.87/MMBtu"
   ]
  },
  {
   "cell_type": "code",
   "execution_count": 4,
   "id": "e6418d43-e5f2-4003-bb30-733b1ed81fff",
   "metadata": {},
   "outputs": [],
   "source": [
    "import matplotlib.pyplot as plt\n",
    "import numpy as np\n",
    "import pandas as pd\n",
    "import math"
   ]
  },
  {
   "cell_type": "code",
   "execution_count": 72,
   "id": "5119eaa6-70b7-4dee-86a9-fc625eddc8b2",
   "metadata": {},
   "outputs": [
    {
     "name": "stdout",
     "output_type": "stream",
     "text": [
      "25.56\n"
     ]
    }
   ],
   "source": [
    "# read data\n",
    "# read into pd dataframe\n",
    "df = pd.read_csv(\"./vermont_demand_price_2022.csv\")\n",
    "df2 = pd.read_csv(\"./Data_wind_temp.csv\")\n",
    "\n",
    "# Extract data\n",
    "pprice = df[\"Price ($/MWh)\"]\n",
    "load = df[\"Load (MW)\"]\n",
    "temp = df2[\" temperature (F)\"]\n",
    "\n",
    "print(pprice.iloc[0])"
   ]
  },
  {
   "cell_type": "code",
   "execution_count": 129,
   "id": "67bc5e70-ae22-4ef4-ac1e-458b5b1a6199",
   "metadata": {
    "scrolled": true
   },
   "outputs": [],
   "source": [
    "# steam demand function\n",
    "# where Hh is the steam demand in hour h, and Th is the outside temperature (in F) in\n",
    "# hour h. For example, when the temperature is 60 F, the hospital will purchase 1 million\n",
    "# btu of steam. When the temperature is 0 F, the hospital will purchase up to 7 million\n",
    "# btu of steam.\n",
    "\n",
    "hh_list = []\n",
    "for h in range(8760):\n",
    "    hh = max((70-temp[h])*1e5, 0)\n",
    "    hh_list.append(hh)\n",
    "\n",
    "steam_demand = pd.DataFrame(hh_list, columns=[\"steam demand per hour\"])"
   ]
  },
  {
   "cell_type": "code",
   "execution_count": 124,
   "id": "404ee3bb-261a-4b8f-ba67-ebf959f414b6",
   "metadata": {},
   "outputs": [],
   "source": [
    "# vars\n",
    "e_ = []\n",
    "for i in range(8760):\n",
    "    e_.append(51 * .38) # .38 efficiency wrt electricity\n",
    "\n",
    "# eeout = 51 MWh, assuming eout dispatch at max power always, max out of turbine\n",
    "eeout = pd.DataFrame(e_, columns=[\"eeout\"])\n",
    "s_price = 15 # dollars per MMBtu\n",
    "install_cost = 1000 # dollars per kW (install cost of the thing\n",
    "ng_price = 2.9 # / $/mmbtu\n",
    "mmbtu_to_mwh = 1 / 0.293071"
   ]
  },
  {
   "cell_type": "code",
   "execution_count": 125,
   "id": "c338260b-1baf-445f-9a4f-36df54edef9f",
   "metadata": {},
   "outputs": [],
   "source": [
    "def is_dispatched(a,b,c,d):\n",
    "    if (a + b) > (c + d):\n",
    "        return 1\n",
    "    return 0"
   ]
  },
  {
   "cell_type": "code",
   "execution_count": 126,
   "id": "32669bcc-b955-44e2-92f0-440046cc10cb",
   "metadata": {
    "scrolled": true
   },
   "outputs": [
    {
     "name": "stdout",
     "output_type": "stream",
     "text": [
      "11221954.118743844\n"
     ]
    }
   ],
   "source": [
    "# 1\n",
    "elec_rev = 0\n",
    "profit_sum = 0\n",
    "for i in range(8760):\n",
    "    ein = eeout.iloc[i,0] / efficiency\n",
    "    elec_rev = pprice.iloc[i] * eeout.iloc[i,0]\n",
    "    steam_rev = s_price * min(steam_demand.iloc[i,0], ein*.4)\n",
    "    \n",
    "    \n",
    "    ng_cost = ng_price * ein * mmbtu_to_mwh\n",
    "\n",
    "    o_m = 6 * eeout.iloc[i,0] # 6 dollars per MWh\n",
    "\n",
    "    d_factor = is_dispatched(elec_rev, steam_rev, ng_cost, o_m)\n",
    "\n",
    "    profit_sum += (( elec_rev + steam_rev - ng_cost - o_m ) * d_factor)\n",
    "    # print(\"elec_rev\", elec_rev) #1 \n",
    "    # print(\"steam_rev\", steam_rev) #2\n",
    "    # print(\"ng_cost\", ng_cost) #3\n",
    "    # print(\"o_m\", o_m) #4\n",
    "    # print(d_factor)\n",
    "    # print(profit_sum)\n",
    "\n",
    "print(profit_sum)"
   ]
  },
  {
   "cell_type": "code",
   "execution_count": 128,
   "id": "a445ffca-3257-4a29-b583-c4a32f26e781",
   "metadata": {
    "scrolled": true
   },
   "outputs": [
    {
     "name": "stdout",
     "output_type": "stream",
     "text": [
      "320970.3487627652\n"
     ]
    }
   ],
   "source": [
    "# compute annual cost\n",
    "n = 20\n",
    "r = .05\n",
    "P = 4e6\n",
    "\n",
    "rn = (1+r) ** n\n",
    "\n",
    "A = P * r * rn / (rn -1)\n",
    "print(A)"
   ]
  },
  {
   "cell_type": "code",
   "execution_count": null,
   "id": "eedf111c-b251-4825-9fe4-f2995f5ee7d1",
   "metadata": {},
   "outputs": [],
   "source": []
  }
 ],
 "metadata": {
  "kernelspec": {
   "display_name": "Python 3 (ipykernel)",
   "language": "python",
   "name": "python3"
  },
  "language_info": {
   "codemirror_mode": {
    "name": "ipython",
    "version": 3
   },
   "file_extension": ".py",
   "mimetype": "text/x-python",
   "name": "python",
   "nbconvert_exporter": "python",
   "pygments_lexer": "ipython3",
   "version": "3.13.7"
  }
 },
 "nbformat": 4,
 "nbformat_minor": 5
}
